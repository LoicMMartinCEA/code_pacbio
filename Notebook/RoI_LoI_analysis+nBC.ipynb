{
 "cells": [
  {
   "cell_type": "markdown",
   "id": "a6e58a87-7ec7-4872-845d-26a22b6d8d27",
   "metadata": {
    "tags": []
   },
   "source": [
    "# RoI and LoI analysis (2D experiments only)"
   ]
  },
  {
   "cell_type": "code",
   "execution_count": 1,
   "id": "b04dc7a2-5e89-4089-b019-21fd8119ebf7",
   "metadata": {
    "tags": []
   },
   "outputs": [],
   "source": [
    "import pickle5\n",
    "import statistics"
   ]
  },
  {
   "cell_type": "code",
   "execution_count": 2,
   "id": "9e1ae353-e2e0-4160-b458-2b2d0fa03df9",
   "metadata": {
    "tags": []
   },
   "outputs": [],
   "source": [
    "# get required information from user\n",
    "DataPath = \"../../2_HN168107_PBI_PBII_v07_600K_Min2Ratio2/\" # the folder containing the required files\n",
    "OptFN = f\"{DataPath}options_full.ini\""
   ]
  },
  {
   "cell_type": "code",
   "execution_count": 3,
   "id": "da46ce82-5a6f-4b28-bc49-0713dc187ad5",
   "metadata": {
    "tags": []
   },
   "outputs": [],
   "source": [
    "#### FUNCTIONS ####\n",
    "# get run parameters from options file\t\n",
    "def get_Options(OptFN, OptionsDic, AllowedPars):\n",
    "    try:\n",
    "        optionsfile=open(OptFN, \"r\")\n",
    "        for line in optionsfile :\n",
    "            if line[:1] != \"#\" and len(line.strip(\"\\n\".strip(\"\"))) > 1 :\n",
    "                splitted_line = line.split(\":\")\n",
    "                key=splitted_line[0].split(\" \")[0]\n",
    "                value=splitted_line[1].strip(\"\\n\").split(\" \")[0]\n",
    "                if key in AllowedPars :\n",
    "                    OptionsDic[key] = value \n",
    "    except:\n",
    "        print('Error reading %s file !' % (OptFN))\n",
    "\n",
    "    return OptionsDic\n",
    "\n",
    "#retrieve list of lists based on 2 separators\n",
    "def double_split(Text, sep1, sep2):\n",
    "    # further parse options\n",
    "    WholeL = []\n",
    "    MainL = Text.split(sep1)\n",
    "    for text in MainL:\n",
    "        WholeL.append(text.strip().split(sep2))\n",
    "\n",
    "    return WholeL"
   ]
  },
  {
   "cell_type": "code",
   "execution_count": 4,
   "id": "d9edd421-0a6e-497a-be9f-627257ea6632",
   "metadata": {
    "tags": []
   },
   "outputs": [
    {
     "name": "stdout",
     "output_type": "stream",
     "text": [
      "12275 single mutant combinations found in SR_AAvars dictionary for complex partners VN1551_VHH2 (A) and VN1554_TNFa-2 (B) !\n"
     ]
    }
   ],
   "source": [
    "## load required data\n",
    "# the options\n",
    "OptionsDic = {}\n",
    "AllowedPars = [\"Partners\"]\n",
    "OptionsDic = get_Options(OptFN, OptionsDic, AllowedPars)\n",
    "ComplexesL = double_split(OptionsDic[\"Partners\"], \";\", \"~\")[0]\n",
    "# the AAvarsDic\n",
    "AAvarsDic = {} \n",
    "with open(r\"{}SR_AAvars_{}_vs_{}.pkl\".format(DataPath,ComplexesL[0], ComplexesL[1]), \"rb\") as input_file:\n",
    "    AAvarsDic = pickle5.load(input_file)\n",
    "    \n",
    "## Drop irrelevant information\n",
    "for key in AAvarsDic.keys():\n",
    "    del AAvarsDic[key]['IndBCData']\n",
    "    \n",
    "print(\"{} single mutant combinations found in SR_AAvars dictionary for complex partners {} (A) and {} (B) !\".format(len(AAvarsDic.keys()), ComplexesL[0], ComplexesL[1]))"
   ]
  },
  {
   "cell_type": "code",
   "execution_count": 5,
   "id": "f7fb8f46-1e11-49d5-b8b5-9595c11e4064",
   "metadata": {
    "tags": []
   },
   "outputs": [
    {
     "name": "stdout",
     "output_type": "stream",
     "text": [
      "F103A:E146S => recovery= 0.3, AxWt= 1.07 (252), BxWt= 0.627 (159), AxB= 0.928 (17)\n",
      "W33R:N92D => recovery= 0.344, AxWt= 0.118 (174), BxWt= 0.896 (175), AxB= 0.462 (15)\n",
      "Y32E:E146S => recovery= 0.346, AxWt= 1.12 (174), BxWt= 0.627 (159), AxB= 0.974 (11)\n",
      "S101E:E146S => recovery= 0.3, AxWt= 1.14 (168), BxWt= 0.627 (159), AxB= 0.927 (10)\n",
      "S101T:E146S => recovery= 0.374, AxWt= 1.14 (113), BxWt= 0.627 (159), AxB= 1.0 (8)\n",
      "S101T:T89L => recovery= 0.313, AxWt= 1.14 (113), BxWt= 0.623 (129), AxB= 0.936 (7)\n",
      "S101A:E146S => recovery= 0.233, AxWt= 1.06 (118), BxWt= 0.627 (159), AxB= 0.861 (7)\n"
     ]
    }
   ],
   "source": [
    "# RoI analysis I\n",
    "RoIDic = {}\n",
    "AoBxWT_MaxNormEnrich = 0.7 # maximum allowed enrichment of a single mutant partner against le WT\n",
    "WT_MinDeltaMax = 0.2 # the minimum difference between a combination of single mutant partners and their combinations (each) with WT\n",
    "\n",
    "for key in AAvarsDic.keys():\n",
    "    if int(AAvarsDic[key]['Stats'][2]) >= 6  :\n",
    "        if AAvarsDic[key]['Stats'][1] <= AAvarsDic[key]['Stats'][0] * 0.7 :\n",
    "            split_key = key.split(\":\")\n",
    "            Partner_A = split_key[0]\n",
    "            Partner_B = split_key[1]\n",
    "            if (Partner_A != 'WT') and (Partner_B != 'WT')  and ( f\"{Partner_A}:WT\" in AAvarsDic.keys() ) and ( f\"WT:{Partner_B}\" in AAvarsDic.keys() ):\n",
    "                AxWTb = AAvarsDic[f\"{Partner_A}:WT\"]['Stats'][0]\n",
    "                BxWTa = AAvarsDic[f\"WT:{Partner_B}\"]['Stats'][0]\n",
    "                if (AxWTb <= AoBxWT_MaxNormEnrich) or (BxWTa <= AoBxWT_MaxNormEnrich):\n",
    "                    AxB = AAvarsDic[key]['Stats'][0]\n",
    "                    DeltaA = AxB - AxWTb \n",
    "                    DeltaB = AxB - BxWTa\n",
    "                    DeltaABL = [ DeltaA, DeltaB]\n",
    "                    DeltaMax = max(DeltaABL)\n",
    "                    DeltaMean = statistics.mean(DeltaABL)\n",
    "                    AxWTname = f\"{Partner_A}:WT\"\n",
    "                    BxWTname = f\"WT:{Partner_B}\"\n",
    "                    AxWT_BCs =  AAvarsDic[AxWTname]['Stats'][2]\n",
    "                    BxWT_BCs =  AAvarsDic[BxWTname]['Stats'][2]\n",
    "                    AxB_BCs = AAvarsDic[key]['Stats'][2]\n",
    "                    if DeltaMax >= WT_MinDeltaMax:\n",
    "                        RoIDic[key] = [AxWTb, BxWTa, AxB, DeltaMean, DeltaMax, AxWT_BCs, BxWT_BCs, AxB_BCs ]\n",
    "\n",
    "sorted_RoIDic = sorted(RoIDic.items(), key=lambda item: item[1][-1], reverse=True)\n",
    "for n in range(len(sorted_RoIDic)):\n",
    "    print(f\"{sorted_RoIDic[n][0]} => recovery= {sorted_RoIDic[n][1][4]:.3}, AxWt= {sorted_RoIDic[n][1][0]:.3} ({sorted_RoIDic[n][1][5]}), BxWt= {sorted_RoIDic[n][1][1]:.3} ({sorted_RoIDic[n][1][6]}), AxB= {sorted_RoIDic[n][1][2]:.3} ({sorted_RoIDic[n][1][7]})\")"
   ]
  },
  {
   "cell_type": "code",
   "execution_count": 6,
   "id": "2832ff1e-1eac-4660-be82-01d01d213381",
   "metadata": {
    "tags": []
   },
   "outputs": [
    {
     "name": "stdout",
     "output_type": "stream",
     "text": [
      "Y32E:S147F => recovery= 0.33, AxWt= 1.12 (174), BxWt= 0.962 (116), AxB= 1.29 (10)\n",
      "S30G:Q88N => recovery= 0.379, AxWt= 1.1 (96), BxWt= 1.08 (168), AxB= 1.46 (8)\n",
      "S101F:S147F => recovery= 0.302, AxWt= 1.14 (121), BxWt= 0.962 (116), AxB= 1.26 (8)\n",
      "Y35W:S147E => recovery= 0.362, AxWt= 0.92 (215), BxWt= 1.16 (58), AxB= 1.28 (7)\n",
      "Y32E:N92A => recovery= 0.387, AxWt= 1.12 (174), BxWt= 0.92 (123), AxB= 1.31 (6)\n",
      "F103R:N92A => recovery= 0.342, AxWt= 1.11 (136), BxWt= 0.92 (123), AxB= 1.26 (6)\n"
     ]
    }
   ],
   "source": [
    "# RoI analysis II\n",
    "RoIDic = {}\n",
    "AoBxWT_MinNormEnrich = 0.9 # minimum allowed enrichment of a single mutant partner against le WT\n",
    "WT_MinDeltaMax = 0.3 # the minimum difference between a combination of single mutant partners and their combinations (each) with WT\n",
    "\n",
    "for key in AAvarsDic.keys():\n",
    "    if int(AAvarsDic[key]['Stats'][2]) >= 6  :\n",
    "        if AAvarsDic[key]['Stats'][1] <= AAvarsDic[key]['Stats'][0] *0.7 :\n",
    "            split_key = key.split(\":\")\n",
    "            Partner_A = split_key[0]\n",
    "            Partner_B = split_key[1]\n",
    "            if (Partner_A != 'WT') and (Partner_B != 'WT')  and ( \"{}:WT\".format(Partner_A) in AAvarsDic.keys() ) and ( \"WT:{}\".format(Partner_B) in AAvarsDic.keys() ):\n",
    "                AxWTb = AAvarsDic[\"{}:WT\".format(Partner_A)]['Stats'][0]\n",
    "                BxWTa = AAvarsDic[\"WT:{}\".format(Partner_B)]['Stats'][0]\n",
    "                if (AxWTb >= AoBxWT_MinNormEnrich) and (BxWTa >= AoBxWT_MinNormEnrich):\n",
    "                    AxB = AAvarsDic[key]['Stats'][0]\n",
    "                    DeltaA = AxB - AxWTb \n",
    "                    DeltaB = AxB - BxWTa\n",
    "                    DeltaABL = [ DeltaA, DeltaB]\n",
    "                    DeltaMax = max(DeltaABL)\n",
    "                    DeltaMean = statistics.mean(DeltaABL)\n",
    "                    AxWTname = f\"{Partner_A}:WT\"\n",
    "                    BxWTname = f\"WT:{Partner_B}\"\n",
    "                    AxWT_BCs =  AAvarsDic[AxWTname]['Stats'][2]\n",
    "                    BxWT_BCs =  AAvarsDic[BxWTname]['Stats'][2]\n",
    "                    AxB_BCs = AAvarsDic[key]['Stats'][2]\n",
    "                    if DeltaMax >= WT_MinDeltaMax:\n",
    "                        RoIDic[key] = [AxWTb, BxWTa, AxB, DeltaMean, DeltaMax, AxWT_BCs, BxWT_BCs, AxB_BCs ]\n",
    "\n",
    "\n",
    "sorted_RoIDic = sorted(RoIDic.items(), key=lambda item: item[1][-1], reverse=True)\n",
    "for n in range(len(sorted_RoIDic)):\n",
    "    print(f\"{sorted_RoIDic[n][0]} => recovery= {sorted_RoIDic[n][1][4]:.3}, AxWt= {sorted_RoIDic[n][1][0]:.3} ({sorted_RoIDic[n][1][5]}), BxWt= {sorted_RoIDic[n][1][1]:.3} ({sorted_RoIDic[n][1][6]}), AxB= {sorted_RoIDic[n][1][2]:.3} ({sorted_RoIDic[n][1][7]})\")"
   ]
  },
  {
   "cell_type": "code",
   "execution_count": 7,
   "id": "acb53fbc-3506-4e30-81fa-de2bd02e1756",
   "metadata": {
    "tags": []
   },
   "outputs": [
    {
     "name": "stdout",
     "output_type": "stream",
     "text": [
      "R98E:Q88N => loss= -0.361, AxWt= 0.979 (79), BxWt= 1.08 (168), AxB= 0.724 (6) \n",
      "R98L:Q88N => loss= -0.267, AxWt= 1.33 (75), BxWt= 1.08 (168), AxB= 1.06 (6) \n",
      "L56Q:S81T => loss= -0.412, AxWt= 1.02 (117), BxWt= 0.934 (105), AxB= 0.605 (6) \n",
      "R98E:T77E => loss= -0.503, AxWt= 0.979 (79), BxWt= 0.995 (146), AxB= 0.491 (7) \n",
      "R98G:S81T => loss= -0.415, AxWt= 0.953 (188), BxWt= 0.934 (105), AxB= 0.539 (8) \n",
      "R98G:Q88K => loss= -0.344, AxWt= 0.953 (188), BxWt= 0.979 (70), AxB= 0.636 (8) \n",
      "F103A:T79S => loss= -0.288, AxWt= 1.07 (252), BxWt= 0.913 (60), AxB= 0.778 (8) \n",
      "S30R:Q88N => loss= -0.262, AxWt= 1.09 (81), BxWt= 1.08 (168), AxB= 0.832 (9) \n",
      "I57V:T77E => loss= -0.296, AxWt= 1.07 (196), BxWt= 0.995 (146), AxB= 0.775 (13) \n",
      "R98G:T77E => loss= -0.381, AxWt= 0.953 (188), BxWt= 0.995 (146), AxB= 0.614 (14) \n"
     ]
    }
   ],
   "source": [
    "# LoI analysis I\n",
    "LoIDic = {}\n",
    "AoBxWT_MinNormEnrich = 0.9 # minimum allowed enrichment of a single mutant partner against le WT\n",
    "WT_MinDeltaMin = -0.25 # the minimum difference between a combination of single mutant partners and their combinations (each) with WT\n",
    "\n",
    "for key in AAvarsDic.keys():\n",
    "    if int(AAvarsDic[key]['Stats'][2]) >= 6  :\n",
    "        if AAvarsDic[key]['Stats'][1] <= AAvarsDic[key]['Stats'][0] *0.7 :\n",
    "            split_key = key.split(\":\")\n",
    "            Partner_A = split_key[0]\n",
    "            Partner_B = split_key[1]\n",
    "            if (Partner_A != 'WT') and (Partner_B != 'WT')  and ( \"{}:WT\".format(Partner_A) in AAvarsDic.keys() ) and ( \"WT:{}\".format(Partner_B) in AAvarsDic.keys() ):\n",
    "                AxWTb = AAvarsDic[\"{}:WT\".format(Partner_A)]['Stats'][0]\n",
    "                BxWTa = AAvarsDic[\"WT:{}\".format(Partner_B)]['Stats'][0]\n",
    "                if (AxWTb >= AoBxWT_MinNormEnrich) and (BxWTa >= AoBxWT_MinNormEnrich):\n",
    "                    AxB = AAvarsDic[key]['Stats'][0]\n",
    "                    DeltaA = AxB - AxWTb \n",
    "                    DeltaB = AxB - BxWTa\n",
    "                    DeltaABL = [ DeltaA, DeltaB]\n",
    "                    DeltaMin = min(DeltaABL)\n",
    "                    DeltaMean = statistics.mean(DeltaABL)\n",
    "                    AxWTname = f\"{Partner_A}:WT\"\n",
    "                    BxWTname = f\"WT:{Partner_B}\"\n",
    "                    AxWT_BCs =  AAvarsDic[AxWTname]['Stats'][2]\n",
    "                    BxWT_BCs =  AAvarsDic[BxWTname]['Stats'][2]\n",
    "                    AxB_BCs = AAvarsDic[key]['Stats'][2]                    \n",
    "                    if DeltaMin <= WT_MinDeltaMin:\n",
    "                        LoIDic[key] = [AxWTb, BxWTa, AxB, DeltaMean, DeltaMin, AxWT_BCs, BxWT_BCs, AxB_BCs ]\n",
    "                        \n",
    "\n",
    "sorted_LoIDic = sorted(LoIDic.items(), key=lambda item: item[1][-1], reverse=False)\n",
    "for n in range(len(sorted_LoIDic)):\n",
    "    print(f\"{sorted_LoIDic[n][0]} => loss= {sorted_LoIDic[n][1][4]:.3}, AxWt= {sorted_LoIDic[n][1][0]:.3} ({sorted_LoIDic[n][1][5]}), BxWt= {sorted_LoIDic[n][1][1]:.3} ({sorted_LoIDic[n][1][6]}), AxB= {sorted_LoIDic[n][1][2]:.3} ({sorted_LoIDic[n][1][7]}) \")"
   ]
  },
  {
   "cell_type": "code",
   "execution_count": null,
   "id": "27d62690-22a2-419c-88cb-31270fe8efb1",
   "metadata": {},
   "outputs": [],
   "source": []
  },
  {
   "cell_type": "code",
   "execution_count": null,
   "id": "4bf8787a",
   "metadata": {},
   "outputs": [],
   "source": []
  }
 ],
 "metadata": {
  "kernelspec": {
   "display_name": "ngs_main",
   "language": "python",
   "name": "ngs_main"
  },
  "language_info": {
   "codemirror_mode": {
    "name": "ipython",
    "version": 3
   },
   "file_extension": ".py",
   "mimetype": "text/x-python",
   "name": "python",
   "nbconvert_exporter": "python",
   "pygments_lexer": "ipython3",
   "version": "3.7.12"
  }
 },
 "nbformat": 4,
 "nbformat_minor": 5
}
