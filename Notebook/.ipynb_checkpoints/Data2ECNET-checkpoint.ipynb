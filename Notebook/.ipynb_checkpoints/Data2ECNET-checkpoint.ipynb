{
 "cells": [
  {
   "cell_type": "markdown",
   "id": "fa00483f-22ba-4ad3-a67f-6f590dd7756d",
   "metadata": {},
   "source": [
    "# 1D/2D analysis"
   ]
  },
  {
   "cell_type": "code",
   "execution_count": 1,
   "id": "459a32ab",
   "metadata": {},
   "outputs": [],
   "source": [
    "# import required modules\n",
    "import pickle5\n",
    "import pandas as pd\n",
    "import numpy as np\n",
    "import os\n",
    "import utils"
   ]
  },
  {
   "cell_type": "code",
   "execution_count": 2,
   "id": "1f3b06f3",
   "metadata": {},
   "outputs": [],
   "source": [
    "DataPath = \"../../run6_full_PBI+PBII_HN168107_600K\" # the folder containing the required files\n",
    "OptFN = \"{}/options_full.ini\".format(DataPath)\n",
    "OutDataPath = \"{}/ECNet\".format(DataPath)\n",
    "if not os.path.isdir(OutDataPath):\n",
    "    os.makedirs(OutDataPath)"
   ]
  },
  {
   "cell_type": "code",
   "execution_count": 3,
   "id": "4eaf8c9c-656f-45c6-aa93-ccccf67aaa3b",
   "metadata": {
    "tags": []
   },
   "outputs": [
    {
     "name": "stdout",
     "output_type": "stream",
     "text": [
      "9503 single mutant combinations found in SR_AAvars dictionary for complex partners VN1551_VHH2 (A) and VN1554_TNFa-2 (B) !\n",
      "Partner VN1551_VHH2 (A) length is 115 and VN1554_TNFa-2 (B) length is 157 ! Concatenated length = 272\n"
     ]
    }
   ],
   "source": [
    "## load required data\n",
    "# the options\n",
    "AllowedPars = [\"Partners\",\"RefSeqs\"]\n",
    "OptionsDic = utils.get_OptionsIPyNB(OptFN, AllowedPars)\n",
    "# the folowing lines are required to correct relative path\n",
    "for key in OptionsDic.keys():\n",
    "    MyValue = OptionsDic[key]\n",
    "    if \"../\" in MyValue:\n",
    "        OptionsDic[key] = MyValue.replace(\"../\", \"{}/../\".format(DataPath))\n",
    "\n",
    "ComplexesL = utils.double_split(OptionsDic[\"Partners\"], \";\", \"~\")[0]\n",
    "RefsDic = utils.get_Refs(OptionsDic[\"RefSeqs\"])\n",
    "\n",
    "# create fasta file with the concatenated sequence\n",
    "ConcatDNA = \"\"\n",
    "ConcatProt = \"\"\n",
    "for partner in  ComplexesL:\n",
    "    ConcatDNA = ConcatDNA + RefsDic[partner][5]\n",
    "    ConcatProt = ConcatProt + (utils.translate_dna(RefsDic[partner][5])).strip('*')\n",
    "ConcatFastaFile=open(\"{}/{}_vs_{}.fa\".format(OutDataPath, ComplexesL[0], ComplexesL[1]), \"w\")\n",
    "ConcatFastaFile.write(\"{}+{}_concatenation\\n{}\".format(ComplexesL[0], ComplexesL[1], ConcatProt))\n",
    "ConcatFastaFile.close()\n",
    "\n",
    "# the AAvarsDic\n",
    "AAvarsDic = {} \n",
    "with open(r\"{}/SR_AAvars_{}_vs_{}.pkl\".format(DataPath,ComplexesL[0], ComplexesL[1]), \"rb\") as input_file:\n",
    "    AAvarsDic = pickle5.load(input_file)\n",
    "    \n",
    "## Drop irrelevant information\n",
    "for key in AAvarsDic.keys():\n",
    "    del AAvarsDic[key]['IndBCData']\n",
    "    \n",
    "print(\"{} single mutant combinations found in SR_AAvars dictionary for complex partners {} (A) and {} (B) !\".format(len(AAvarsDic.keys()), ComplexesL[0], ComplexesL[1]))\n",
    "\n",
    "ALength = len(RefsDic[ComplexesL[0]][5])/3\n",
    "BLength = len(RefsDic[ComplexesL[1]][5])/3\n",
    "if RefsDic[ComplexesL[0]][5][-3:] in ['TAA', 'TGA', 'TAG']:\n",
    "    ALength = ALength -1\n",
    "if RefsDic[ComplexesL[1]][5][-3:] in ['TAA', 'TGA', 'TAG']:\n",
    "    BLength = BLength -1    \n",
    "ConcatLength = ALength + BLength\n",
    "print(\"Partner {} (A) length is {:g} and {} (B) length is {:g} ! Concatenated length = {:g}\".format(ComplexesL[0], ALength , ComplexesL[1], BLength, ConcatLength))"
   ]
  },
  {
   "cell_type": "code",
   "execution_count": 4,
   "id": "bec5d02f",
   "metadata": {},
   "outputs": [],
   "source": [
    "dMutL = list(AAvarsDic.keys()) # list of 2D variant combination\n",
    "# remove double mutants supported by less than Min_dBCs and SD more than NormEnrichFactor\n",
    "Min_dBCs = 2\n",
    "MaxSD_NormEnrichFactor = 0.8\n",
    "for key in dMutL:\n",
    "    if ( AAvarsDic[key]['Stats'][2] >= Min_dBCs ) and ( AAvarsDic[key]['Stats'][1] <= (AAvarsDic[key]['Stats'][0] * MaxSD_NormEnrichFactor )):\n",
    "        AAvarsDic[key] = AAvarsDic[key]['Stats'] # Normalized enrichment, SD and diffent BCs supporting the combination of variants\n",
    "    else:\n",
    "        del AAvarsDic[key]"
   ]
  },
  {
   "cell_type": "code",
   "execution_count": 5,
   "id": "3d29dc24",
   "metadata": {},
   "outputs": [
    {
     "name": "stdout",
     "output_type": "stream",
     "text": [
      "Y35S:WT:[0.5971950600108359, 0.13085261164192527, 195]\n",
      "WT:S81F:[0.1876774606185046, 0.0783820918986438, 114]\n",
      "I57R:K90R:[0.10464463914337035, 0.028960272393192467, 5]\n"
     ]
    }
   ],
   "source": [
    "# print some information to see if everything is fine\n",
    "i = 1\n",
    "for key in AAvarsDic.keys():\n",
    "    if i <= 3:\n",
    "        print(\"{}:{}\".format(key, AAvarsDic[key]))\n",
    "        i += 1"
   ]
  },
  {
   "cell_type": "code",
   "execution_count": 6,
   "id": "b8c26f84",
   "metadata": {},
   "outputs": [
    {
     "name": "stdout",
     "output_type": "stream",
     "text": [
      "N54*:T89E\n",
      "N54*:WT\n",
      "WT:WT\n",
      "N54*:E135R\n",
      "N54*:S95T\n",
      "N54*:S147M\n",
      "N54*:S147T\n",
      "N54*:N92G\n",
      "N54*:T89A\n",
      "N54*:E135Q\n",
      "N54*:S147L\n",
      "N54*:Q88L\n",
      "N54*:I97W\n",
      "N54*:N137W\n",
      "N54*:E135K\n",
      "N54*:I97A\n",
      "N54*:I97R\n",
      "N54*:E146S\n",
      "N54*:E135V\n",
      "N54*:L75E\n",
      "N54*:T79L\n",
      "N54*:N137L\n",
      "N54*:S147G\n",
      "N54*:K90R\n",
      "N54*:S95E\n",
      "N54*:N92D\n",
      "N54*:S81F\n",
      "N54*:E135W\n",
      "N54*:Q88F\n",
      "N54*:E146D\n",
      "N54*:Q88N\n",
      "N54*:S81A\n",
      "N54*:N92A\n",
      "N54*:E146L\n",
      "N54*:T89F\n",
      "N54*:T79R\n",
      "N54*:K90A\n",
      "N54*:S81G\n",
      "N54*:L75F\n",
      "N54*:K90V\n",
      "N54*:S95G\n",
      "N54*:T89K\n",
      "N54*:T77E\n",
      "N54*:N92S\n",
      "N54*:S147K\n",
      "N54*:E146F\n",
      "N54*:N137G\n",
      "N54*:E135G\n",
      "N54*:T79K\n",
      "N54*:L75M\n",
      "N54*:L75G\n",
      "N54*:E146V\n",
      "N54*:K90E\n",
      "N54*:T89L\n",
      "N54*:S147E\n",
      "N54*:E135F\n",
      "N54*:E146M\n",
      "N54*:S147F\n",
      "N54*:E135A\n",
      "N54*:T79S\n",
      "N54*:N92K\n",
      "N54*:K90W\n",
      "N54*:S147N\n",
      "N54*:N92R\n",
      "N54*:S81T\n",
      "N54*:E135L\n",
      "N54*:Q88G\n",
      "N54*:S147D\n",
      "N54*:T77G\n",
      "N54*:N92W\n",
      "N54*:E146Q\n",
      "N54*:T89S\n",
      "N54*:E146A\n",
      "N54*:N92F\n",
      "N54*:E146G\n",
      "N54*:N92E\n",
      "N54*:N92L\n",
      "N54*:K90F\n",
      "N54*:S95N\n",
      "N54*:N137E\n",
      "N54*:Q88R\n"
     ]
    }
   ],
   "source": [
    "# take position of an mutation\n",
    "def CorrectPos(dkey):\n",
    "    dmuta = dkey.split(':')\n",
    "    for i in range(len(dmuta)):\n",
    "        muta = dmuta[i]\n",
    "        pos = 0\n",
    "        if muta != \"WT\":\n",
    "            pos = int(muta[1:-1])\n",
    "            if i > 0:\n",
    "                pos = int(ALength + pos)\n",
    "            dmuta[i] = \"\".join([muta[0], str(pos), muta[-1]])\n",
    "        else:\n",
    "            dmuta[i] = \"\"\n",
    "\n",
    "    UpdatedKey = \";\".join(dmuta)\n",
    "    if UpdatedKey[0] == \";\":\n",
    "        UpdatedKey = UpdatedKey[1:]\n",
    "    if UpdatedKey[-1] == \";\":\n",
    "        UpdatedKey = UpdatedKey[:-1]\n",
    "\n",
    "    return UpdatedKey\n",
    "\n",
    "\n",
    "ScoreDic = {}\n",
    "for key in AAvarsDic.keys():\n",
    "    if (key != \"WT:WT\") and (\"*\" not in key): # we exclude WT interactions because they are not informatives\n",
    "        UpdatedKey = CorrectPos(key)\n",
    "        ScoreDic[UpdatedKey] = AAvarsDic[key][0]\n",
    "    else:\n",
    "        print(key)"
   ]
  },
  {
   "cell_type": "code",
   "execution_count": 7,
   "id": "d63cf331-1b62-4ba9-9fd9-1b5a725b6a4d",
   "metadata": {},
   "outputs": [],
   "source": [
    "ScoreDF = pd.DataFrame.from_dict(ScoreDic, orient='index', columns=['score'])\n",
    "ScoreDF.index.name = \"mutation\"\n",
    "ScoreDF.head(10)\n",
    "ScoreDF.to_csv(\"{}/{}_vs_{}_scores.tsv\".format(OutDataPath, ComplexesL[0], ComplexesL[1]), sep=\"\\t\")"
   ]
  },
  {
   "cell_type": "code",
   "execution_count": null,
   "id": "6a9a0948-344c-4a00-a9d3-1116403ce4d2",
   "metadata": {},
   "outputs": [],
   "source": []
  },
  {
   "cell_type": "code",
   "execution_count": null,
   "id": "301dceae-deea-454b-bdaa-b6d58c5c79a6",
   "metadata": {},
   "outputs": [],
   "source": []
  }
 ],
 "metadata": {
  "kernelspec": {
   "display_name": "ngs_main",
   "language": "python",
   "name": "ngs_main"
  },
  "language_info": {
   "codemirror_mode": {
    "name": "ipython",
    "version": 3
   },
   "file_extension": ".py",
   "mimetype": "text/x-python",
   "name": "python",
   "nbconvert_exporter": "python",
   "pygments_lexer": "ipython3",
   "version": "3.7.12"
  }
 },
 "nbformat": 4,
 "nbformat_minor": 5
}
