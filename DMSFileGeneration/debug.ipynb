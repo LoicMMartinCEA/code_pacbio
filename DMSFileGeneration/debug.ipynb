{
 "cells": [
  {
   "cell_type": "code",
   "execution_count": 2,
   "metadata": {},
   "outputs": [],
   "source": [
    "import pickle\n",
    "import sys"
   ]
  },
  {
   "cell_type": "code",
   "execution_count": 7,
   "metadata": {},
   "outputs": [],
   "source": [
    "with open(\"nuc2abundance.pickle\",\"rb\") as file :\n",
    "    loaded = pickle.load(file,encoding='latin1')\n",
    "\n"
   ]
  },
  {
   "cell_type": "code",
   "execution_count": 10,
   "metadata": {},
   "outputs": [
    {
     "name": "stdout",
     "output_type": "stream",
     "text": [
      "CTT ['9.70', '5.56', '19.00']\n",
      "ATG ['100.0', '100.0', '100.0']\n",
      "AAG ['24.56', '21.45', '27.79']\n",
      "AAA ['75.44', '78.55', '72.21']\n",
      "ATC ['44.37', '65.94', '26.65']\n",
      "AAC ['59.13', '82.75', '35.94']\n",
      "ATA ['4.43', '0.57', '25.78']\n",
      "AGG ['1.54', '0.29', '9.96']\n",
      "CCT ['13.71', '11.23', '28.30']\n",
      "ACT ['14.85', '29.08', '26.83']\n",
      "AGC ['30.04', '24.33', '17.61']\n",
      "ACA ['10.52', '4.67', '27.93']\n",
      "AGA ['1.75', '0.62', '15.63']\n",
      "CAT ['56.80', '29.77', '61.69']\n",
      "AAT ['40.87', '17.25', '64.06']\n",
      "ATT ['51.20', '33.49', '47.57']\n",
      "CTG ['52.79', '76.67', '29.99']\n",
      "CTA ['3.09', '0.83', '6.81']\n",
      "CTC ['10.40', '8.03', '9.04']\n",
      "CAC ['43.20', '70.23', '38.31']\n",
      "ACG ['27.81', '12.65', '20.80']\n",
      "CAA ['33.40', '18.65', '37.06']\n",
      "AGT ['13.96', '4.52', '18.73']\n",
      "CAG ['66.60', '81.35', '62.94']\n",
      "CCG ['56.47', '71.89', '23.94']\n",
      "CCC ['11.19', '1.63', '16.26']\n",
      "TAG ['7.36', '2.44', '\\xa0']\n",
      "TAT ['54.42', '35.23', '69.60']\n",
      "GGT ['32.91', '50.84', '31.79']\n",
      "TGT ['40.90', '38.85', '55.71']\n",
      "CGA ['5.52', '1.07', '12.80']\n",
      "CCA ['18.63', '15.25', '31.50']\n",
      "CGC ['42.23', '32.97', '21.94']\n",
      "GAT ['62.83', '46.05', '70.47']\n",
      "CGG ['8.97', '0.80', '13.62']\n",
      "TTT ['55.09', '29.08', '67.14']\n",
      "TGC ['59.10', '61.15', '44.29']\n",
      "GGG ['14.74', '4.36', '18.95']\n",
      "TGA ['29.21', '2.44', '\\xa0']\n",
      "GGA ['9.19', '1.97', '24.75']\n",
      "TAA ['63.42', '95.12', '\\xa0']\n",
      "GGC ['43.17', '42.83', '24.51']\n",
      "TAC ['45.58', '64.77', '30.40']\n",
      "GAG ['31.67', '24.65', '33.75']\n",
      "TCG ['16.88', '7.39', '10.60']\n",
      "TTA ['10.99', '3.44', '20.09']\n",
      "GAC ['37.17', '53.95', '29.53']\n",
      "CGT ['38.99', '64.25', '26.05']\n",
      "GAA ['68.33', '75.35', '66.25']\n",
      "TCA ['10.83', '4.79', '22.09']\n",
      "GCA ['19.63', '24.01', '31.27']\n",
      "GTA ['14.86', '19.97', '21.78']\n",
      "GCC ['27.62', '16.14', '23.67']\n",
      "GTC ['22.48', '13.45', '18.95']\n",
      "GCG ['38.23', '32.30', '22.19']\n",
      "GTG ['38.92', '26.81', '24.94']\n",
      "TTC ['44.91', '70.92', '32.86']\n",
      "GTT ['23.74', '39.77', '34.33']\n",
      "GCT ['14.52', '27.54', '22.86']\n",
      "ACC ['46.83', '53.60', '24.45']\n",
      "TTG ['13.02', '5.47', '15.05']\n",
      "TCC ['15.02', '26.56', '11.34']\n",
      "TGG ['100.0', '100.0', '100.0']\n",
      "TCT ['13.26', '32.41', '19.63']\n"
     ]
    }
   ],
   "source": [
    "for n in loaded:\n",
    "    print(n,loaded[n])"
   ]
  },
  {
   "cell_type": "code",
   "execution_count": 14,
   "metadata": {},
   "outputs": [
    {
     "name": "stdout",
     "output_type": "stream",
     "text": [
      "Generated Code Result: 10\n"
     ]
    }
   ],
   "source": [
    "variable_name = \"x\"\n",
    "variable_value = 5\n",
    "\n",
    "# Generate a dynamic code snippet using eval\n",
    "dynamic_code = f\"{variable_name} * 2\"\n",
    "result = eval(dynamic_code, {variable_name: variable_value})\n",
    "print(\"Generated Code Result:\", result)"
   ]
  }
 ],
 "metadata": {
  "kernelspec": {
   "display_name": "Test",
   "language": "python",
   "name": "python3"
  },
  "language_info": {
   "codemirror_mode": {
    "name": "ipython",
    "version": 3
   },
   "file_extension": ".py",
   "mimetype": "text/x-python",
   "name": "python",
   "nbconvert_exporter": "python",
   "pygments_lexer": "ipython3",
   "version": "3.11.4"
  }
 },
 "nbformat": 4,
 "nbformat_minor": 2
}
