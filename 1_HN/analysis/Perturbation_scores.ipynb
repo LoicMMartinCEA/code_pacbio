{
 "cells": [
  {
   "cell_type": "code",
   "execution_count": 1,
   "metadata": {},
   "outputs": [],
   "source": [
    "import pickle5 as pickle\n",
    "import statistics\n",
    "import math"
   ]
  },
  {
   "cell_type": "code",
   "execution_count": 2,
   "metadata": {},
   "outputs": [],
   "source": [
    "# get required information from user\n",
    "DataPath = \"../\" # the folder containing the required files\n",
    "OptFN = \"{}options_full.ini\".format(DataPath)\n",
    "NPos = 4 # number of positions of interest / partner"
   ]
  },
  {
   "cell_type": "code",
   "execution_count": 3,
   "metadata": {},
   "outputs": [],
   "source": [
    "#### FUNCTIONS ####\n",
    "# get run parameters from options file\t\n",
    "def get_Options(OptFN, OptionsDic, AllowedPars):\n",
    "    try:\n",
    "        optionsfile=open(OptFN, \"r\")\n",
    "        for line in optionsfile :\n",
    "            if line[:1] != \"#\" and len(line.strip(\"\\n\".strip(\"\"))) > 1 :\n",
    "                splitted_line = line.split(\":\")\n",
    "                key=splitted_line[0].split(\" \")[0]\n",
    "                value=splitted_line[1].strip(\"\\n\").split(\" \")[0]\n",
    "                if key in AllowedPars :\n",
    "                    OptionsDic[key] = value \n",
    "    except:\n",
    "        print('Error reading %s file !' % (OptFN))\n",
    "\n",
    "    return OptionsDic\n",
    "\n",
    "#retrieve list of lists based on 2 separators\n",
    "def double_split(Text, sep1, sep2):\n",
    "    # further parse options\n",
    "    WholeL = []\n",
    "    MainL = Text.split(sep1)\n",
    "    for text in MainL:\n",
    "        WholeL.append(text.strip().split(sep2))\n",
    "\n",
    "    return WholeL"
   ]
  },
  {
   "cell_type": "code",
   "execution_count": 4,
   "metadata": {},
   "outputs": [
    {
     "name": "stdout",
     "output_type": "stream",
     "text": [
      "10956 single mutant combinations found in SR_AAvars dictionary for complex partners VN1551_VHH2 (A) and VN1554_TNFa-2 (B) !\n"
     ]
    }
   ],
   "source": [
    "## load required data\n",
    "# the options\n",
    "OptionsDic = {}\n",
    "AllowedPars = [\"Partners\"]\n",
    "OptionsDic = get_Options(OptFN, OptionsDic, AllowedPars)\n",
    "ComplexesL = double_split(OptionsDic[\"Partners\"], \";\", \"~\")[0]\n",
    "# the AAvarsDic\n",
    "AAvarsDic = {} \n",
    "GlobalAAvarsDic = {}\n",
    "with open(r\"{}SR_AAvars_{}_vs_{}.pkl\".format(DataPath,ComplexesL[0], ComplexesL[1]), \"rb\") as input_file:\n",
    "    GlobalAAvarsDic = pickle.load(input_file)\n",
    "    \n",
    "## Drop irrelevant information\n",
    "for complex in GlobalAAvarsDic.keys():\n",
    "    AAvarsDic = GlobalAAvarsDic[complex]\n",
    "    for key in AAvarsDic.keys():\n",
    "        del AAvarsDic[key]['IndBCData']\n",
    "    \n",
    "    print(\"{} single mutant combinations found in SR_AAvars dictionary for complex partners {} (A) and {} (B) !\".format(len(AAvarsDic.keys()), ComplexesL[0], ComplexesL[1]))"
   ]
  },
  {
   "cell_type": "code",
   "execution_count": 5,
   "metadata": {},
   "outputs": [
    {
     "name": "stdout",
     "output_type": "stream",
     "text": [
      "WT:WT data\n",
      "\tNormalized enrichment(1.0), sd(0.281), se(0.007) and number of double barcodes(1450)\n",
      "\n",
      "Mutants data\n",
      "\t15 positions found for VN1551_VHH2\n",
      "\t15 positions found for VN1554_TNFa-2\n"
     ]
    }
   ],
   "source": [
    "# Peturbation analyis\n",
    "#check if one of the partners have constant sequence\n",
    "pA_set = set()\n",
    "pB_set = set()\n",
    "ConstSeqL = []\n",
    "for key in AAvarsDic.keys():\n",
    "    split_key = key.split(\":\")\n",
    "    pA_set.add(split_key[0])\n",
    "    pB_set.add(split_key[1])\n",
    "if len(pA_set) == 1:\n",
    "    ConstSeqL.append(ComplexesL[0])\n",
    "if len(pB_set) == 1:   \n",
    "    ConstSeqL.append(ComplexesL[1])\n",
    "\n",
    "# get WT:WT data\n",
    "WT_NormEnrich = AAvarsDic['WT:WT']['Stats'][0]\n",
    "WT_SD = AAvarsDic['WT:WT']['Stats'][1]\n",
    "WT_NdBCs = AAvarsDic['WT:WT']['Stats'][2]\n",
    "WT_SE = WT_SD / math.sqrt(WT_NdBCs)\n",
    "print(\"WT:WT data\\n\\tNormalized enrichment({:.1f}), sd({:.3f}), se({:.3f}) and number of double barcodes({})\".format(WT_NormEnrich, WT_SD ,WT_SE, WT_NdBCs))\n",
    "\n",
    "# get mutant positions perturbation score\n",
    "PertDic = {}\n",
    "NormEnrich = SD = SE = 0\n",
    "for key in AAvarsDic.keys():\n",
    "    MutPartner = None\n",
    "    Pos = 0\n",
    "    if key != \"WT:WT\" :\n",
    "        split_key = key.split(\":\")\n",
    "        if split_key[0] == \"WT\":\n",
    "            MutPartner = ComplexesL[1] # Partner B\n",
    "        if split_key[1] == \"WT\":\n",
    "            MutPartner = ComplexesL[0] # Partner A\n",
    "        if  MutPartner != None :   \n",
    "            NormEnrich = AAvarsDic[key]['Stats'][0]\n",
    "            SD = AAvarsDic[key]['Stats'][1]\n",
    "            NdBCs = AAvarsDic[key]['Stats'][2]\n",
    "            if NdBCs > 1:\n",
    "                SE = SD / math.sqrt( WT_NdBCs )\n",
    "                PertScore = (WT_NormEnrich - SD) - NormEnrich\n",
    "                if MutPartner == ComplexesL[0]: # Partner A\n",
    "                    Pos = int(split_key[0][1:-1])\n",
    "                if MutPartner == ComplexesL[1]:  # Partner B\n",
    "                    Pos = int(split_key[1][1:-1])\n",
    "                if MutPartner in PertDic.keys():\n",
    "                    if Pos in PertDic[MutPartner].keys():\n",
    "                        PertDic[MutPartner][Pos][0].append(PertScore) \n",
    "                    else: # 1st observation of the position for a given mutation partner\n",
    "                        PertDic[MutPartner][Pos] = [[PertScore], None, None, None, None]\n",
    "                else: # 1st observation of the mutation partner\n",
    "                    # PertDic[\"MutPartner\"] {\"Pos\" : [Lis of perturbations, Mean, SD, SE, N] }\n",
    "                    PertDic[MutPartner] = { Pos : [[PertScore], None, None, None, None] }  \n",
    "\n",
    "for MutPartner in PertDic.keys():\n",
    "    for Pos in PertDic[MutPartner].keys():\n",
    "        N = len(PertDic[MutPartner][Pos][0])\n",
    "        try:\n",
    "            Average = statistics.mean(PertDic[MutPartner][Pos][0])\n",
    "            SD = statistics.stdev(PertDic[MutPartner][Pos][0])\n",
    "            SE = SD / math.sqrt(N)\n",
    "        except:\n",
    "            Average = PertDic[MutPartner][Pos][0][0]\n",
    "            SD = None\n",
    "            SE = None\n",
    "        PertDic[MutPartner][Pos][1] = Average\n",
    "        PertDic[MutPartner][Pos][2] = SD\n",
    "        PertDic[MutPartner][Pos][3] = SE\n",
    "        PertDic[MutPartner][Pos][4] = N\n",
    "\n",
    "# print general information and reorder data\n",
    "print(\"\\nMutants data\")\n",
    "for partner in PertDic.keys():\n",
    "    if partner not in ConstSeqL:\n",
    "        print(\"\\t{} positions found for {}\".format( len(PertDic[partner]), partner) )\n",
    "        PertDic[partner] = sorted(PertDic[partner].items(), key=lambda item: item[1][1], reverse=True)"
   ]
  },
  {
   "cell_type": "code",
   "execution_count": 6,
   "metadata": {},
   "outputs": [
    {
     "name": "stdout",
     "output_type": "stream",
     "text": [
      "VN1551_VHH2 most perturbed positions ranking: \n",
      "\tPosition 33 has a mean pertubation score against WT partner = 0.496 (10 mutants)\n",
      "\tPosition 57 has a mean pertubation score against WT partner = 0.489 (12 mutants)\n",
      "\tPosition 35 has a mean pertubation score against WT partner = 0.463 (12 mutants)\n",
      "\tPosition 54 has a mean pertubation score against WT partner = 0.349 (9 mutants)\n",
      "VN1554_TNFa-2 most perturbed positions ranking: \n",
      "\tPosition 137 has a mean pertubation score against WT partner = 0.767 (4 mutants)\n",
      "\tPosition 90 has a mean pertubation score against WT partner = 0.681 (10 mutants)\n",
      "\tPosition 79 has a mean pertubation score against WT partner = 0.580 (4 mutants)\n",
      "\tPosition 135 has a mean pertubation score against WT partner = 0.541 (10 mutants)\n"
     ]
    }
   ],
   "source": [
    "# print position perturbation rank (epitopes)\n",
    "for MutPartner in PertDic.keys():\n",
    "    print (\"{} most perturbed positions ranking: \".format(MutPartner))\n",
    "    for i in range(NPos):\n",
    "        dataL = list(PertDic[MutPartner][i])\n",
    "        print(\"\\tPosition {} has a mean pertubation score against WT partner = {:.3f} ({} mutants)\".format(dataL[0], dataL[1][1], dataL[1][-1]))"
   ]
  }
 ],
 "metadata": {
  "kernelspec": {
   "display_name": "ngs_main",
   "language": "python",
   "name": "ngs_main"
  },
  "language_info": {
   "codemirror_mode": {
    "name": "ipython",
    "version": 3
   },
   "file_extension": ".py",
   "mimetype": "text/x-python",
   "name": "python",
   "nbconvert_exporter": "python",
   "pygments_lexer": "ipython3",
   "version": "3.7.12"
  }
 },
 "nbformat": 4,
 "nbformat_minor": 4
}
